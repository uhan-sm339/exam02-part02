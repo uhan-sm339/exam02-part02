{
 "cells": [
  {
   "cell_type": "markdown",
   "id": "537f7497-7da9-40d7-914a-88637427423b",
   "metadata": {
    "deletable": false,
    "editable": false,
    "tags": []
   },
   "source": [
    "**SM339 &#x25aa; Applied Statistics &#x25aa; Spring 2023 &#x25aa; Uhan**"
   ]
  },
  {
   "cell_type": "markdown",
   "id": "006f0de1-669a-48b5-b439-586363218e1c",
   "metadata": {
    "deletable": false,
    "editable": false,
    "tags": []
   },
   "source": [
    "# Exam 2 &mdash; Part 2 &mdash; 4/7/2023"
   ]
  },
  {
   "cell_type": "markdown",
   "id": "66c64f80-c669-4d8e-ba0f-eb4bc51cf066",
   "metadata": {
    "deletable": false,
    "editable": false,
    "tags": []
   },
   "source": [
    "## Instructions\n",
    "\n",
    "This part is worth 40 points total. The exam (both parts) is worth 100 points total.\n",
    "\n",
    "You have until the end of the class period to complete this part of the exam.\n",
    "\n",
    "You may use your plebe-issue TI-36X Pro calculator.\n",
    "\n",
    "You may refer to notes that _you have handwritten_, not to exceed _one side_ of an 8.5\" × 11\" piece of paper.\n",
    "\n",
    "You may _not_ use any other materials.\n",
    "\n",
    "__No applications except for JupyterLab may be open on your laptop during the exam.__\n",
    "\n",
    "__No collaboration allowed.__ All work must be your own.\n",
    "\n",
    "__Do not discuss the contents of this exam with any midshipmen until it is returned to you.__\n",
    "\n",
    "Type your answers __directly in this Jupyter notebook__, and submit this notebook (just the `ipynb` file) using the submission form on the [course website](https://www.usna.edu/users/math/uhan/sm339/)."
   ]
  },
  {
   "cell_type": "markdown",
   "id": "6a20fa24-89e9-4b34-be3d-b2d6c2cc8599",
   "metadata": {
    "deletable": false,
    "editable": false,
    "tags": []
   },
   "source": [
    "## Problem 0\n",
    "\n",
    "For this exam, we will revisit the `RailsTrails` dataset from the `Stat2Data` package.\n",
    "\n",
    "Run the cell below to load and preview the data."
   ]
  },
  {
   "cell_type": "code",
   "execution_count": null,
   "id": "9d61e5c4-18fe-4fd2-94c7-b786a6029c62",
   "metadata": {
    "deletable": false,
    "editable": false,
    "tags": []
   },
   "outputs": [],
   "source": [
    "library(Stat2Data)\n",
    "data(RailsTrails)\n",
    "head(RailsTrails)"
   ]
  },
  {
   "cell_type": "markdown",
   "id": "2cc641fb-01ae-4530-8833-96f07827b1b0",
   "metadata": {
    "deletable": false,
    "editable": false,
    "tags": []
   },
   "source": [
    "## Problem 1\n",
    "\n",
    "For this problem, we will focus on the following variables in `RailsTrails`:\n",
    "\n",
    "| Variable | Description |\n",
    "| :- | :- |\n",
    "| _Price2014_ | Price estimate from 2014 (in thousands of dollars) | \n",
    "| _SquareFeet_ | Square footage of interior finished space (in thousands of square feet)| \n",
    "| _BikeScore_ | Bike friendliness (0-100 score, higher scores are better)| \n",
    "\n",
    "Consider the following model, which we will call Model A:\n",
    "\n",
    "$$ \\text{(Model A)} \\qquad \\mathit{Price2014} = \\beta_0 + \\beta_1 \\mathit{SquareFeet} + \\beta_2 \\mathit{BikeScore} + \\beta_3 \\mathit{BikeScore}^2 + \\varepsilon \\qquad \\varepsilon \\sim N(0, \\sigma_{\\varepsilon}^2) $$"
   ]
  },
  {
   "cell_type": "markdown",
   "id": "bbb60c3f-69de-4834-a596-9eb9e1fe724d",
   "metadata": {
    "deletable": false,
    "editable": false,
    "tags": []
   },
   "source": [
    "### a.\n",
    "\n",
    "Fit Model A. Provide __only__ the summary output for this part."
   ]
  },
  {
   "cell_type": "code",
   "execution_count": null,
   "id": "0c0e3db8-413b-4007-9761-20d2982e00a7",
   "metadata": {
    "deletable": false,
    "tags": []
   },
   "outputs": [],
   "source": []
  },
  {
   "cell_type": "markdown",
   "id": "286e344e-e895-430f-890a-0f5145d1badf",
   "metadata": {
    "deletable": false,
    "editable": false,
    "tags": []
   },
   "source": [
    "### b.\n",
    "\n",
    "Is the overall model effective?\n",
    "\n",
    "- Answer yes or no.\n",
    "- Report (1) the name of the hypothesis test, (2) the test statistic and (3) the $p$-value you used to make your decision. Use a significance level of 0.05."
   ]
  },
  {
   "cell_type": "markdown",
   "id": "bb839e81-a4cd-47e8-bb74-72eafe55d7b8",
   "metadata": {
    "deletable": false,
    "tags": []
   },
   "source": [
    "*Write your answer here. Double-click to edit.*"
   ]
  },
  {
   "cell_type": "markdown",
   "id": "c1dfac68-25fd-43f8-9a58-5d751cf0d0c2",
   "metadata": {
    "deletable": false,
    "editable": false,
    "tags": []
   },
   "source": [
    "### c.\n",
    "\n",
    "Consider Model B, which only uses $\\mathit{SquareFeet}$ to predict $\\mathit{Price2014}$:\n",
    "\n",
    "$$ \\text{(Model B)} \\qquad \\mathit{Price2014} = \\beta_0 + \\beta_1 \\mathit{SquareFeet} + \\varepsilon \\qquad \\varepsilon \\sim N(0, \\sigma_{\\varepsilon}^2) $$\n",
    "\n",
    "\n",
    "#### (i)\n",
    "Conduct a nested $F$-test to compare Model A and Model B.\n",
    "\n",
    "In particular, in the cell below, compute the test statistic and $p$-value for this test. You are encouraged to use any appropriate \"shortcut\" functions in R. \n",
    "\n",
    "You will be asked to interpret the results of the test in part (ii).\n",
    "\n",
    "__Do not__ provide summary output for the fit of Model B."
   ]
  },
  {
   "cell_type": "code",
   "execution_count": null,
   "id": "a383ce24-5672-4e19-8365-8947c1d09d24",
   "metadata": {
    "deletable": false,
    "tags": []
   },
   "outputs": [],
   "source": []
  },
  {
   "cell_type": "markdown",
   "id": "d70d9f81-5362-4d60-8adc-61db72c79644",
   "metadata": {
    "deletable": false,
    "editable": false,
    "tags": []
   },
   "source": [
    "#### (ii)\n",
    "\n",
    "Based on the nested $F$-test, which model is \"better\"?\n",
    "Briefly explain.\n",
    "Use a significance level of 0.05."
   ]
  },
  {
   "cell_type": "markdown",
   "id": "10cc2888-8667-4d12-b7a8-b5f7ccf85382",
   "metadata": {
    "deletable": false,
    "tags": []
   },
   "source": [
    "*Write your answer here. Double-click to edit.*"
   ]
  },
  {
   "cell_type": "markdown",
   "id": "9a47ca87-7b3c-41da-81f9-eb3de7fde176",
   "metadata": {
    "deletable": false,
    "editable": false,
    "tags": []
   },
   "source": [
    "## Problem 2\n",
    "\n",
    "Suppose now you want to develop a model to predict $\\mathit{Price2014}$ from the following variables: \n",
    "\n",
    "| Variable | Description |\n",
    "| :- | :- |\n",
    "| _Bedrooms_ | Number of bedrooms |\n",
    "| _BikeScore_ | Bike friendliness (0-100 score, higher scores are better) |\n",
    "| _Distance_ | Distance (in feet) to the nearest bike trail entrance |\n",
    "| _NumFullBaths_ | Number of full bathrooms |\n",
    "| _SquareFeet_ | Square footage of interior finished space (in thousands of square feet) |\n",
    "| _WalkScore_ | Walking friendliness (0-100 score, higher scores are better) |"
   ]
  },
  {
   "cell_type": "markdown",
   "id": "a7594f40-c5a8-4b4b-8e4f-423aaf0c4b2f",
   "metadata": {
    "deletable": false,
    "editable": false,
    "tags": []
   },
   "source": [
    "### a.\n",
    "In the code cell below, run the best subsets regression procedure. \n",
    "In part b, you will be asked to interpret your output. "
   ]
  },
  {
   "cell_type": "code",
   "execution_count": null,
   "id": "7ed7f133-e228-4ad4-8ba0-aeda27d8c21a",
   "metadata": {
    "deletable": false,
    "tags": []
   },
   "outputs": [],
   "source": []
  },
  {
   "cell_type": "markdown",
   "id": "c546e6d3-4de6-4937-a0f5-0617149b1004",
   "metadata": {
    "deletable": false,
    "editable": false,
    "tags": []
   },
   "source": [
    "### b.\n",
    "\n",
    "What is the best model, using Mallows's $C_p$?\n",
    "Give your answer by (1) stating the Mallows's $C_p$ of the model you have chosen, and (2) listing all the predictors in the model you have chosen."
   ]
  },
  {
   "cell_type": "markdown",
   "id": "fe7a7bb1-0332-4601-ab3b-13509c099001",
   "metadata": {
    "deletable": false,
    "tags": []
   },
   "source": [
    "*Write your answer here. Double-click to edit.*"
   ]
  },
  {
   "cell_type": "markdown",
   "id": "b12db451-691d-4f2b-9b2d-718c5ead1254",
   "metadata": {
    "deletable": false,
    "editable": false,
    "tags": []
   },
   "source": [
    "## Problem 3\n",
    "\n",
    "For this problem, we will consider the following model that predicts $\\mathit{Price2014}$ from $\\mathit{NumFullBaths}$, $\\mathit{SquareFeet}$, and $\\mathit{WalkScore}$: \n",
    "\n",
    "$$ \\mathit{Price2014} = \\beta_0 + \\beta_1 \\mathit{NumFullBaths} + \\beta_2 \\mathit{SquareFeet} + \\beta_3 \\mathit{WalkScore} + \\varepsilon \\qquad \\varepsilon \\sim N(0, \\sigma_{\\varepsilon}^2) $$"
   ]
  },
  {
   "cell_type": "markdown",
   "id": "b53febc0-1db7-4b04-9995-7a84b6d47cc6",
   "metadata": {
    "deletable": false,
    "editable": false,
    "tags": []
   },
   "source": [
    "### a.\n",
    "\n",
    "#### (i)\n",
    "Compute the VIFs of all the predictors in this model. "
   ]
  },
  {
   "cell_type": "code",
   "execution_count": null,
   "id": "eff279f0-89c5-4fc1-bf2e-4e3872bc4d98",
   "metadata": {
    "deletable": false,
    "tags": []
   },
   "outputs": [],
   "source": []
  },
  {
   "cell_type": "markdown",
   "id": "95a62a3c-1647-4cb3-ba3b-3d04cd5861eb",
   "metadata": {
    "deletable": false,
    "editable": false,
    "tags": []
   },
   "source": [
    "#### (ii) \n",
    " \n",
    "Should we be worried about multicollinearity? Briefly explain. State any rules of thumb you use."
   ]
  },
  {
   "cell_type": "markdown",
   "id": "63b15855-492d-4a69-b4c1-c85fc9dc69dc",
   "metadata": {
    "deletable": false,
    "tags": []
   },
   "source": [
    "*Write your answer here. Double-click to edit.*"
   ]
  },
  {
   "cell_type": "markdown",
   "id": "91ad235f-8c7a-4310-8809-e37294c756f3",
   "metadata": {
    "deletable": false,
    "editable": false,
    "tags": []
   },
   "source": [
    "### b.\n",
    "\n",
    "Split your data, using the following code:\n",
    "\n",
    "```r\n",
    "set.seed(2000)\n",
    "train <- sample(104, 78)\n",
    "```\n",
    "\n",
    "Compute the cross-validation correlation, using `RailsTrails[train,]` as the training sample, and `RailsTrails[-train,]` as the holdout sample."
   ]
  },
  {
   "cell_type": "code",
   "execution_count": null,
   "id": "d53b78c7-edcb-459e-9843-2c86c4862960",
   "metadata": {
    "deletable": false,
    "tags": []
   },
   "outputs": [],
   "source": []
  },
  {
   "cell_type": "markdown",
   "id": "26a53449-a5de-4408-a0e3-042feddd7656",
   "metadata": {
    "deletable": false,
    "editable": false,
    "tags": []
   },
   "source": [
    "### c.\n",
    "\n",
    "Suppose the shrinkage on cross-validation is 0.06. Should we be worried about the predictive performance of our model? Briefly explain. State any rules of thumb you use."
   ]
  },
  {
   "cell_type": "markdown",
   "id": "bff54bb2-cc40-4436-8c6f-45dc5e754d3f",
   "metadata": {
    "deletable": false,
    "tags": []
   },
   "source": [
    "*Write your answer here. Double-click to edit.*"
   ]
  },
  {
   "cell_type": "markdown",
   "id": "08fd4b6b-f57b-498e-a031-2489f9c20da0",
   "metadata": {
    "deletable": false,
    "editable": false,
    "tags": []
   },
   "source": [
    "## Grading rubric\n",
    "\n",
    "| Problem | Weight |\n",
    "| :-: | -: |\n",
    "| 1a | 0.4 | \n",
    "| 1b | 0.4 | \n",
    "| 1c(i) | 0.4 |\n",
    "| 1c(ii) | 0.4 |\n",
    "| 2a | 0.4 | \n",
    "| 2b | 0.4 |\n",
    "| 3a(i) | 0.4 |\n",
    "| 3a(ii) | 0.4 |\n",
    "| 3b | 0.4 |\n",
    "| 3c | 0.4 |\n",
    "| __Max Score__ | __40__ |"
   ]
  }
 ],
 "metadata": {
  "kernelspec": {
   "display_name": "R",
   "language": "R",
   "name": "ir"
  },
  "language_info": {
   "codemirror_mode": "r",
   "file_extension": ".r",
   "mimetype": "text/x-r-source",
   "name": "R",
   "pygments_lexer": "r",
   "version": "4.2.2"
  }
 },
 "nbformat": 4,
 "nbformat_minor": 5
}
